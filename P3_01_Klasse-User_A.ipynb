{
 "cells": [
  {
   "cell_type": "markdown",
   "metadata": {},
   "source": [
    "<figure>\n",
    "  <IMG SRC=\"https://upload.wikimedia.org/wikipedia/commons/thumb/d/d5/Fachhochschule_Südwestfalen_20xx_logo.svg/320px-Fachhochschule_Südwestfalen_20xx_logo.svg.png\" WIDTH=250 ALIGN=\"right\">\n",
    "</figure>\n",
    "\n",
    "# Skriptsprachen\n",
    "\n",
    "### Sommersemester 2020\n",
    "Prof. Dr. Heiner Giefers"
   ]
  },
  {
   "cell_type": "markdown",
   "metadata": {},
   "source": [
    "## Aufgabenblatt  I zum Thema Objektorientierung\n",
    "\n",
    "### Die Klasse User\n",
    "\n",
    "In dieser Aufgabe soll eine Klasse `User` entwickelt werden, die den **Namen**, das **Login** und die **ID** eines Benutzers als Attribute enthält.\n",
    "\n",
    "Wenn ein neuer `User` mit dem Konstruktor der Klasse angelegt wird, soll diesem automatisch eine fortlaufende Benutzer-ID zugeteilt werden.\n",
    "\n",
    "Außerdem sollen alle `User` **von der Klasse selbst** in einer Benutzerdatenbank gespeichert werden. Jedes Mal, wenn ein `User` angelegt wird, soll dieser automatisch in die Benutzerdatenbank eingetragen werden.\n",
    "\n",
    "Implementieren Sie die Klasse `User` so, dass folgender Code verwendet werden kann, um zwei `User` anzulegen:\n",
    "\n",
    "```python\n",
    "u0 = User(\"Admin\", \"root\")\n",
    "u1 = User(\"Heiner\", \"hgi\")\n",
    "for u in User.db:\n",
    "    print(u)\n",
    "```\n",
    "\n",
    "Die Ausabe der `print` Funktion soll folgendermaßen aussehen:\n",
    "\n",
    "```\n",
    "Admin (root) mit ID 0\n",
    "Heiner (hgi) mit ID 1\n",
    "```\n"
   ]
  },
  {
   "cell_type": "code",
   "execution_count": 1,
   "metadata": {},
   "outputs": [],
   "source": [
    "class User:\n",
    "    pass"
   ]
  },
  {
   "cell_type": "code",
   "execution_count": 2,
   "metadata": {},
   "outputs": [],
   "source": [
    "u0 = User(\"Admin\", \"root\")\n",
    "u1 = User(\"Heiner\", \"hgi\")"
   ]
  },
  {
   "cell_type": "code",
   "execution_count": 3,
   "metadata": {},
   "outputs": [
    {
     "name": "stdout",
     "output_type": "stream",
     "text": [
      "Admin (root) mit ID 0\n",
      "Heiner (hgi) mit ID 1\n"
     ]
    }
   ],
   "source": [
    "for u in User.db:\n",
    "    print(u)"
   ]
  }
 ],
 "metadata": {
  "kernelspec": {
   "display_name": "Python 3",
   "language": "python",
   "name": "python3"
  },
  "language_info": {
   "codemirror_mode": {
    "name": "ipython",
    "version": 3
   },
   "file_extension": ".py",
   "mimetype": "text/x-python",
   "name": "python",
   "nbconvert_exporter": "python",
   "pygments_lexer": "ipython3",
   "version": "3.7.6"
  }
 },
 "nbformat": 4,
 "nbformat_minor": 2
}
