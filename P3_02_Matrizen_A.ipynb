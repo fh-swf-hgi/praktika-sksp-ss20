{
 "cells": [
  {
   "cell_type": "markdown",
   "metadata": {},
   "source": [
    "<figure>\n",
    "  <IMG SRC=\"https://upload.wikimedia.org/wikipedia/commons/thumb/d/d5/Fachhochschule_Südwestfalen_20xx_logo.svg/320px-Fachhochschule_Südwestfalen_20xx_logo.svg.png\" WIDTH=250 ALIGN=\"right\">\n",
    "</figure>\n",
    "\n",
    "# Skriptsprachen\n",
    "\n",
    "### Sommersemester 2020\n",
    "Prof. Dr. Heiner Giefers"
   ]
  },
  {
   "cell_type": "markdown",
   "metadata": {},
   "source": [
    "## Aufgabenblatt II zum Thema Objektorientierung\n",
    "\n",
    "### Die Klasse Vector\n",
    "\n",
    "In dieser Aufgabe geht es darum, eine Klasse `Vector` zur Speicherung und Verarbeitung mathematischer Vektoren zu implementieren. Python besitzt zwar mehrere sequentielle Datentypen (z.B. *tuple*) mit denen Vektoren dargestellt werden können. Allerdings sind sequentielle Datentypen *Container* für allgemeine Objekte und damit nicht sonderlich gut geeignet für mathematische Operationen.\n",
    "\n",
    "Nehmen wir z.B. zwei Tupel `a` und `b`, die einen \"Vektor\" aus Integer-Werten enthalten. Eine `+` Operation führt nicht wie gewünscht eine Vektor-Addition aus, sondern konkateniert  `a` und `b` zu einem neuen Tupel:"
   ]
  },
  {
   "cell_type": "code",
   "execution_count": 175,
   "metadata": {},
   "outputs": [
    {
     "name": "stdout",
     "output_type": "stream",
     "text": [
      "(1, 2, 3, 5, 5, 5)\n"
     ]
    }
   ],
   "source": [
    "a = (1,2,3)\n",
    "b = (5,5,5)\n",
    "print(a+b)"
   ]
  },
  {
   "cell_type": "markdown",
   "metadata": {},
   "source": [
    "Ziel dieser Aufgabe ist es, eine Klasse `Vector` zu programmieren, mit der diese `+`-Operation sinnvoll durchgeführt werden kann. Dazu sind eine Reihe von Teilaufgaben nützlich, die Sie in beliebiger Reihenfolge bearbeiten können:"
   ]
  },
  {
   "cell_type": "markdown",
   "metadata": {},
   "source": [
    "**1. Implementieren Sie einen Konstruktor**\n",
    "\n",
    "- Intern sollen die Werte des Vektors als Tupel abgelegt werden.\n",
    "- Die Länge des Vektors soll als Attribut gespeichert werden. Es ist sinnvoll, die Länge bzw. die _Dimension_ des Vektors als Tupel anzulegen. Im 2-dimensionalen Fall also als Tupel $(x,y)$ wobei $x$ die Anzahl der Zeilen und $y$ die Anzahl der Spalten ist. $(1,8)$ wäre demnach die Dimension für einen Zeilenvektor mit 8 Elementen, $(8,1)$ die Dimension für einen Spaltenvektor mit gleich vielen Elementen.  \n",
    "    \n"
   ]
  },
  {
   "cell_type": "markdown",
   "metadata": {},
   "source": [
    "**2. Schreiben Sie eine Funktion `__str__` mit der Sie Vektoren formatiert ausgeben können**\n",
    "\n",
    "- Die Formatierung ist beliebig, aber es sollte klar sein, ob es sich um einen Zeilen- oder Spaltenvektor handelt. Sie können sich gerne an der [Matrix Formatierung in Matlab](https://ch.mathworks.com/help/matlab/learn_matlab/matrices-and-arrays.html) orientieren."
   ]
  },
  {
   "cell_type": "markdown",
   "metadata": {},
   "source": [
    "**3. Überschreiben Sie den `+`-Operator für die Klasse `Vector`, so dass das Ergebnis ein neues Vector-Objekt mit der Vektorsumme der beiden Operanden ist**\n",
    "\n",
    "- Implementieren Sie ähnliche Methode für `-` und `*`\n",
    "- Bei der Multiplikation mit dem `*`-Zeichen können Sie das elementweise Produkt (Hadamard-Produkt) annehmen. Dabei wird der *i*-te Wert des linken Vektors mit dem *i*-ten Wert des linken Vektors multipliziert. Das Ergebnis bildet den *i*-ten eintrag im Ergebnisvektor.\n",
    "- Sie können versuchen, eine \"generische Methode\" für binäre Operatoren zu schreiben. Damit vermeiden Sie redundanten Code. Eine Möglichkeit dies zu tun ist, das Modul [operator](https://docs.python.org/3/library/operator.html) aus der Standardbibliothek einzusetzen."
   ]
  },
  {
   "cell_type": "markdown",
   "metadata": {},
   "source": [
    "**4. Implementieren Sie eine Methode `transpose` mit der Sie den Vektor transponieren können**\n",
    "\n",
    "- Beim Transponieren vertauschen Sie Zeilen und Spalten\n",
    "- Müssen Sie an der Reheinfolge der Daten etwas ändern?\n",
    "- `transpose` soll ein neues Vector-Objekt zurückgeben"
   ]
  },
  {
   "cell_type": "markdown",
   "metadata": {},
   "source": [
    "**5. Ergänzen Sie die Klasse `Vector` um eine Methode, mit der das Skalarprodukt zweier Vektoren gebildet werden kann**\n",
    "\n",
    "- Als Operator können Sie das `@`-Zeichen Verwenden. Die zugehörige *Magic Method* ist `__matmul__(self,x)`"
   ]
  },
  {
   "cell_type": "markdown",
   "metadata": {},
   "source": [
    "**6. Entwickeln sie eine Klasse `Matrix` die von `Vector` abgeleitet ist**\n",
    "\n",
    "- Die Werte der Matrix sollen zeilenweise im Tupel stehen\n",
    "- Welche Methoden sollten Sie überschreiben?\n",
    "- Finden Sie eine Implementierung, mit der eine Matrix mit möglichst kurzer Schreibweise transponiert werden kann. Z.B. wenn `A` eine Matrix ist, soll `A.T` das Transponierte der Matrix liefern.\n",
    "- Statt des Skalarprodukts soll der `@`-Operator bei Matrizen die Matrixmultiplikation ausgeführt werden"
   ]
  }
 ],
 "metadata": {
  "kernelspec": {
   "display_name": "Python 3",
   "language": "python",
   "name": "python3"
  },
  "language_info": {
   "codemirror_mode": {
    "name": "ipython",
    "version": 3
   },
   "file_extension": ".py",
   "mimetype": "text/x-python",
   "name": "python",
   "nbconvert_exporter": "python",
   "pygments_lexer": "ipython3",
   "version": "3.7.6"
  }
 },
 "nbformat": 4,
 "nbformat_minor": 2
}
