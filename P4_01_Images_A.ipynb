{
 "cells": [
  {
   "cell_type": "markdown",
   "metadata": {},
   "source": [
    "<figure>\n",
    "  <IMG SRC=\"https://upload.wikimedia.org/wikipedia/commons/thumb/d/d5/Fachhochschule_Südwestfalen_20xx_logo.svg/320px-Fachhochschule_Südwestfalen_20xx_logo.svg.png\" WIDTH=250 ALIGN=\"right\">\n",
    "</figure>\n",
    "\n",
    "# Skriptsprachen\n",
    "\n",
    "### Sommersemester 2020\n",
    "Prof. Dr. Heiner Giefers"
   ]
  },
  {
   "cell_type": "markdown",
   "metadata": {},
   "source": [
    "## Aufgabenblatt zum Thema Bibliotheken\n",
    "\n",
    "### Bilder Skalieren\n",
    "\n",
    "Ihre Bachelorarbeit wurde als beste Arbeit des Semesters ausgezeichnet und die Hochschule möchte nun eine Pressemitteilung herausgeben.\n",
    "Dazu fordern die Web-Admins von Ihnen ein *40 KB* großes Foto an, dass neben dem Text erscheinen soll.\n",
    "\n",
    "Das von Ihnen ausgewählte Bild ist aber deutlich größer.\n",
    "Sie haben zwar ein Bildbearbeitungsprogramm, aber damit können Sie nur die Größe des Bildes in Pixeln verändern.\n",
    "Mit diesem Programm müssten Sie nun durch Ausprobieren eine Bildgrößeneinstellung finden, die Ihnen ein Bild mit ca. *40 KB* liefert.\n",
    "\n",
    "Damit wollen Sie sich nicht zufrieden geben und das Problem lieber mit einem Python Programm lösen.\n",
    "Folgende Teilaufgaben sind dazu zu lösen:"
   ]
  },
  {
   "cell_type": "markdown",
   "metadata": {},
   "source": [
    "**1. Schreiben Sie Python-Code, mit dem Sie ein Bild aus dem Internet herunterladen und in eine Datei schreiben können. Verwenden Sie zum testen dieses Bild: `https://upload.wikimedia.org/wikipedia/commons/9/97/The_Earth_seen_from_Apollo_17.jpg`**\n",
    "\n",
    "**2. Wie können Sie die Dateigröße des Bildes herausfinden?**\n",
    "\n",
    "**3. Schreiben Sie eine Methode `scale_image(size_target, img_orig, img_scaled)` mit der Sie eine Kopie des Bildes mit einer festgelegte Größe erzeugen. `size_target` ist die gewünschte Bildgröße in Byte, `img_orig` der Pfad des Original-Bildes, `img_scaled` der Pfad, unter dem das neue Bild angelegt wurde. Die Bildgröße muss natürlich nicht genau erreicht werden. Es genügt, wenn sie mit +/- 5% Genauigkeit erreicht wird.**\n",
    "\n",
    "**4. Schreiben Sie eine GUI mit der Sie das Skalieren des Bildes steuern können. Das Original-Bild soll über einen Dateibrowser geöffnet werden können. Über ein Eingabefeld soll man die Zielgröße des neuen Bildes einstellen können.**"
   ]
  },
  {
   "cell_type": "markdown",
   "metadata": {},
   "source": [
    "Die Bearbeitung des Bildes können Sie mit der Bibliothek Pillow erledigen.\n",
    "Diese Installieren Sie mit `conda` z.B. so:"
   ]
  },
  {
   "cell_type": "code",
   "execution_count": null,
   "metadata": {},
   "outputs": [],
   "source": [
    "import sys\n",
    "!conda install --yes --prefix {sys.prefix} Pillow"
   ]
  },
  {
   "cell_type": "markdown",
   "metadata": {},
   "source": [
    "Aus der Bibliothek benötigen Sie nur wenige Methoden. Die Wichtigsten finden Sie in der folgenden code-Zelle:"
   ]
  },
  {
   "cell_type": "code",
   "execution_count": null,
   "metadata": {},
   "outputs": [],
   "source": [
    "from PIL import Image\n",
    "\n",
    "# Neues Bild erzeugen\n",
    "img = Image.new('RGB', (600,400), (255, 128, 0))\n",
    "\n",
    "# Bild in Datei speichern\n",
    "img.save(\"testbild.png\")\n",
    "\n",
    "# Bild öffnen\n",
    "img = Image.open(\"testbild.png\")\n",
    "\n",
    "# Bild-Größe verändern\n",
    "img = img.resize((100,100))\n",
    "\n",
    "# Bild im Viewer anzeigen\n",
    "img.show()"
   ]
  },
  {
   "cell_type": "markdown",
   "metadata": {},
   "source": [
    "`img.show()` zeigt das Bild im externen Viewer an.\n",
    "Um das Bild direkt im Jupyter Notebook aunzuzeigen, verwenden Sie am besten die Methode `IPython.display.display()` aus der Bibliothek `IPython`."
   ]
  },
  {
   "cell_type": "code",
   "execution_count": null,
   "metadata": {},
   "outputs": [],
   "source": [
    "from IPython.display import display\n",
    "display(img)"
   ]
  },
  {
   "cell_type": "markdown",
   "metadata": {},
   "source": [
    "Für die letze Teilaufgabe müssen Sie eine kleine GUI schreiben.\n",
    "Dazu bietet sich die Bibliothek *Tkinter* an.\n",
    "Ein Minimalprogramm finden Sie in folgender Code-Zelle:"
   ]
  },
  {
   "cell_type": "code",
   "execution_count": null,
   "metadata": {},
   "outputs": [],
   "source": [
    "import tkinter as tk\n",
    "from tkinter import StringVar\n",
    "       \n",
    "\n",
    "class ImageGUI(tk.Frame):\n",
    "    def __init__(self, parent, *args, **kwargs):\n",
    "        tk.Frame.__init__(self, parent, *args, **kwargs)\n",
    "        self.parent = parent\n",
    "        \n",
    "        self.my_label = StringVar()\n",
    "        self.my_label.set('OK')\n",
    "\n",
    "        self.mybutton = tk.Button(root, textvariable =self.my_label, command=self.quit)\n",
    "        self.mybutton.pack()\n",
    "        \n",
    "    def quit(self):\n",
    "        self.parent.destroy()\n",
    "\n",
    "if __name__ == \"__main__\":\n",
    "    root = tk.Tk()\n",
    "    ImageGUI(root).pack(side=\"top\", fill=\"both\", expand=True)\n",
    "    root.mainloop()"
   ]
  }
 ],
 "metadata": {
  "kernelspec": {
   "display_name": "Python 3",
   "language": "python",
   "name": "python3"
  },
  "language_info": {
   "codemirror_mode": {
    "name": "ipython",
    "version": 3
   },
   "file_extension": ".py",
   "mimetype": "text/x-python",
   "name": "python",
   "nbconvert_exporter": "python",
   "pygments_lexer": "ipython3",
   "version": "3.7.6"
  }
 },
 "nbformat": 4,
 "nbformat_minor": 4
}
